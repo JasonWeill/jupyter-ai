{
 "cells": [
  {
   "cell_type": "code",
   "execution_count": 1,
   "id": "24f3f446-2b1d-4802-a47c-d298c06fc86e",
   "metadata": {
    "tags": []
   },
   "outputs": [],
   "source": [
    "%load_ext jupyter_ai"
   ]
  },
  {
   "cell_type": "markdown",
   "id": "2e178db2-55f7-45c4-a63c-9892ddf61495",
   "metadata": {},
   "source": [
    "## Rapidly experimenting with different HF Hub models\n",
    "We can call models on HuggingFace Hub that return images:"
   ]
  },
  {
   "cell_type": "code",
   "execution_count": 3,
   "id": "0837ad88-7759-42e8-894c-82747c4bb3ce",
   "metadata": {
    "tags": []
   },
   "outputs": [
    {
     "data": {
      "text/plain": [
       "'Cannot determine model provider from model ID huggingface_image:stabilityai/stable-diffusion-2-1.'"
      ]
     },
     "execution_count": 3,
     "metadata": {},
     "output_type": "execute_result"
    }
   ],
   "source": [
    "%%ai huggingface_image:stabilityai/stable-diffusion-2-1\n",
    "It's an astronaut with a boombox"
   ]
  },
  {
   "cell_type": "code",
   "execution_count": null,
   "id": "73239301-af47-4c98-9911-2687008d0bab",
   "metadata": {},
   "outputs": [],
   "source": []
  }
 ],
 "metadata": {
  "kernelspec": {
   "display_name": "Python 3 (ipykernel)",
   "language": "python",
   "name": "python3"
  },
  "language_info": {
   "codemirror_mode": {
    "name": "ipython",
    "version": 3
   },
   "file_extension": ".py",
   "mimetype": "text/x-python",
   "name": "python",
   "nbconvert_exporter": "python",
   "pygments_lexer": "ipython3",
   "version": "3.10.9"
  }
 },
 "nbformat": 4,
 "nbformat_minor": 5
}
