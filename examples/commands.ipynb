{
 "cells": [
  {
   "cell_type": "markdown",
   "id": "ca3ba02c-c965-4ffe-88b3-ca606a9cf288",
   "metadata": {},
   "source": [
    "# AI commands\n",
    "\n",
    "You can use the `%ai` cell magic to run special commands. If a model has the same name as a command, you will need to refer to the model using the `provider:model` format only; the `model` shortcut will not work."
   ]
  },
  {
   "cell_type": "code",
   "execution_count": 1,
   "id": "6c9c4016-711c-4592-b543-24b854f5b160",
   "metadata": {
    "tags": []
   },
   "outputs": [],
   "source": [
    "%reload_ext jupyter_ai"
   ]
  },
  {
   "cell_type": "markdown",
   "id": "cd2a9967-8923-43bf-96b0-9567c09775e2",
   "metadata": {
    "tags": []
   },
   "source": [
    "## Getting help\n",
    "\n",
    "`%ai help` will show you a list of all supported commands."
   ]
  },
  {
   "cell_type": "code",
   "execution_count": 2,
   "id": "edd6ddd5-54fb-4750-8ae9-4143a6b83e2e",
   "metadata": {
    "tags": []
   },
   "outputs": [
    {
     "data": {
      "text/plain": [
       "'Running help'"
      ]
     },
     "execution_count": 2,
     "metadata": {},
     "output_type": "execute_result"
    }
   ],
   "source": [
    "%ai help"
   ]
  },
  {
   "cell_type": "code",
   "execution_count": null,
   "id": "dcb44622-fbe8-495e-899c-cfa64f58d2fe",
   "metadata": {},
   "outputs": [],
   "source": []
  }
 ],
 "metadata": {
  "kernelspec": {
   "display_name": "Python 3 (ipykernel)",
   "language": "python",
   "name": "python3"
  },
  "language_info": {
   "codemirror_mode": {
    "name": "ipython",
    "version": 3
   },
   "file_extension": ".py",
   "mimetype": "text/x-python",
   "name": "python",
   "nbconvert_exporter": "python",
   "pygments_lexer": "ipython3",
   "version": "3.9.16"
  }
 },
 "nbformat": 4,
 "nbformat_minor": 5
}
