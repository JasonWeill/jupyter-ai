{
 "cells": [
  {
   "cell_type": "code",
   "execution_count": 1,
   "id": "297a793f-099d-45f3-b64e-10fd70cace49",
   "metadata": {
    "tags": []
   },
   "outputs": [],
   "source": [
    "%reload_ext jupyter_ai"
   ]
  },
  {
   "cell_type": "code",
   "execution_count": 2,
   "id": "01d054df-6fed-4c53-9fd1-27e5e09d64f9",
   "metadata": {
    "tags": []
   },
   "outputs": [
    {
     "data": {
      "text/plain": [
       "1.0"
      ]
     },
     "execution_count": 2,
     "metadata": {},
     "output_type": "execute_result"
    }
   ],
   "source": [
    "2/2"
   ]
  },
  {
   "cell_type": "code",
   "execution_count": 3,
   "id": "1d28e4d2-1677-4a3a-b489-94c95d7233ec",
   "metadata": {
    "tags": []
   },
   "outputs": [],
   "source": [
    "2/0"
   ]
  },
  {
   "cell_type": "code",
   "execution_count": 4,
   "id": "d184cff2-e70b-4b14-8dca-119cd36d6cff",
   "metadata": {
    "tags": []
   },
   "outputs": [
    {
     "name": "stdout",
     "output_type": "stream",
     "text": [
      "Exception type: <class 'ZeroDivisionError'>\n",
      "Exception value: division by zero\n",
      "Traceback:   File \"/Users/jweill/Library/Application Support/hatch/env/virtual/jupyter-ai-monorepo/YuaVGges/jupyter-ai-monorepo/lib/python3.10/site-packages/IPython/core/interactiveshell.py\", line 3505, in run_code\n",
      "    exec(code_obj, self.user_global_ns, self.user_ns)\n",
      "\n",
      "  File \"/var/folders/md/x69whq_524q4kb6r0gnq3df40000gr/T/ipykernel_4251/3627099327.py\", line 1, in <module>\n",
      "    2/0\n",
      "\n"
     ]
    }
   ],
   "source": [
    "print(Err[3])"
   ]
  },
  {
   "cell_type": "code",
   "execution_count": 5,
   "id": "267decf3-9a23-4ca1-a2fa-b472c0e911c8",
   "metadata": {},
   "outputs": [
    {
     "data": {
      "text/markdown": [
       "This is a ZeroDivisionError, which occurs when you try to divide a number by zero. In this example, the Python code is attempting to divide the integer 2 by zero, which is impossible, resulting in the ZeroDivisionError. The traceback shows the file path and line number where the error occurred, along with the code that caused the error."
      ],
      "text/plain": [
       "<IPython.core.display.Markdown object>"
      ]
     },
     "execution_count": 5,
     "metadata": {},
     "output_type": "execute_result"
    }
   ],
   "source": [
    "%%ai chatgpt\n",
    "Explain the following Python error:\n",
    "    {Err[3]}"
   ]
  },
  {
   "cell_type": "code",
   "execution_count": null,
   "id": "d7383f28-e69d-4e77-acf3-03ef7f245485",
   "metadata": {},
   "outputs": [],
   "source": []
  }
 ],
 "metadata": {
  "kernelspec": {
   "display_name": "Python 3 (ipykernel)",
   "language": "python",
   "name": "python3"
  },
  "language_info": {
   "codemirror_mode": {
    "name": "ipython",
    "version": 3
   },
   "file_extension": ".py",
   "mimetype": "text/x-python",
   "name": "python",
   "nbconvert_exporter": "python",
   "pygments_lexer": "ipython3",
   "version": "3.10.9"
  }
 },
 "nbformat": 4,
 "nbformat_minor": 5
}
