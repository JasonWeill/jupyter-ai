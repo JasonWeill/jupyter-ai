{
 "cells": [
  {
   "cell_type": "code",
   "execution_count": 1,
   "id": "297a793f-099d-45f3-b64e-10fd70cace49",
   "metadata": {
    "tags": []
   },
   "outputs": [],
   "source": [
    "%load_ext jupyter_ai"
   ]
  },
  {
   "cell_type": "code",
   "execution_count": 2,
   "id": "01d054df-6fed-4c53-9fd1-27e5e09d64f9",
   "metadata": {
    "tags": []
   },
   "outputs": [
    {
     "data": {
      "text/plain": [
       "1.0"
      ]
     },
     "execution_count": 2,
     "metadata": {},
     "output_type": "execute_result"
    }
   ],
   "source": [
    "2/2"
   ]
  },
  {
   "cell_type": "code",
   "execution_count": 3,
   "id": "1d28e4d2-1677-4a3a-b489-94c95d7233ec",
   "metadata": {
    "tags": []
   },
   "outputs": [
    {
     "name": "stdout",
     "output_type": "stream",
     "text": [
      "\u001b[0;31m---------------------------------------------------------------------------\u001b[0m\n",
      "\u001b[0;31mZeroDivisionError\u001b[0m                         Traceback (most recent call last)\n",
      "    \u001b[0;31m[... skipping hidden 1 frame]\u001b[0m\n",
      "\n",
      "Cell \u001b[0;32mIn[3], line 1\u001b[0m\n",
      "\u001b[0;32m----> 1\u001b[0m \u001b[38;5;241;43m2\u001b[39;49m\u001b[38;5;241;43m/\u001b[39;49m\u001b[38;5;241;43m0\u001b[39;49m\n",
      "\n",
      "\u001b[0;31mZeroDivisionError\u001b[0m: division by zero\n",
      "The original exception:\n"
     ]
    },
    {
     "name": "stderr",
     "output_type": "stream",
     "text": [
      "Custom TB Handler failed, unregistering\n"
     ]
    }
   ],
   "source": [
    "2/0"
   ]
  },
  {
   "cell_type": "code",
   "execution_count": 4,
   "id": "d184cff2-e70b-4b14-8dca-119cd36d6cff",
   "metadata": {
    "tags": []
   },
   "outputs": [
    {
     "name": "stdout",
     "output_type": "stream",
     "text": [
      "['---------------------------------------------------------------------------', 'ZeroDivisionError                         Traceback (most recent call last)', '    [... skipping hidden 1 frame]\\n', 'Cell In[3], line 1\\n----> 1 2/0\\n', 'ZeroDivisionError: division by zero']\n"
     ]
    }
   ],
   "source": [
    "print(Err[3])"
   ]
  },
  {
   "cell_type": "code",
   "execution_count": 6,
   "id": "267decf3-9a23-4ca1-a2fa-b472c0e911c8",
   "metadata": {},
   "outputs": [
    {
     "data": {
      "text/plain": [
       "'Cannot determine model provider from model ID openai-chat:gpt-3.5-turbo.'"
      ]
     },
     "execution_count": 6,
     "metadata": {},
     "output_type": "execute_result"
    }
   ],
   "source": [
    "%%ai chatgpt\n",
    "Explain the following Python error:\n",
    "    {Err[3]}"
   ]
  },
  {
   "cell_type": "code",
   "execution_count": null,
   "id": "d7383f28-e69d-4e77-acf3-03ef7f245485",
   "metadata": {},
   "outputs": [],
   "source": []
  }
 ],
 "metadata": {
  "kernelspec": {
   "display_name": "Python 3 (ipykernel)",
   "language": "python",
   "name": "python3"
  },
  "language_info": {
   "codemirror_mode": {
    "name": "ipython",
    "version": 3
   },
   "file_extension": ".py",
   "mimetype": "text/x-python",
   "name": "python",
   "nbconvert_exporter": "python",
   "pygments_lexer": "ipython3",
   "version": "3.10.9"
  }
 },
 "nbformat": 4,
 "nbformat_minor": 5
}
